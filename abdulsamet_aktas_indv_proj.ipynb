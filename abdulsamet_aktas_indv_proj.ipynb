{
 "cells": [
  {
   "cell_type": "markdown",
   "metadata": {},
   "source": [
    "CS210 Individual Project\n",
    "\n",
    "Name: Abdulsamet Aktas \n",
    "ID  : 23811\n",
    "All coments are related to the below cell of comment cells."
   ]
  },
  {
   "cell_type": "markdown",
   "metadata": {},
   "source": [
    "In the below cell i import necessary libraries which i will use next cells"
   ]
  },
  {
   "cell_type": "code",
   "execution_count": 1,
   "metadata": {},
   "outputs": [],
   "source": [
    "import pandas as pd\n",
    "import numpy as np\n",
    "import matplotlib.pyplot as plt\n",
    "from scipy import stats\n",
    "from datetime import datetime\n",
    "import seaborn as sns  # a visualization library based on matplotlib\n",
    "from datetime import datetime\n",
    "from math import radians, sin, cos, acos\n",
    "import warnings\n",
    "warnings.filterwarnings('ignore')\n",
    "\n",
    "sns.set(style=\"darkgrid\")\n",
    "\n",
    "%matplotlib inline"
   ]
  },
  {
   "cell_type": "markdown",
   "metadata": {},
   "source": [
    "i called my file as DataSet then i opened our dataset and print the beginning of my data"
   ]
  },
  {
   "cell_type": "code",
   "execution_count": 2,
   "metadata": {},
   "outputs": [
    {
     "data": {
      "text/html": [
       "<div>\n",
       "<style scoped>\n",
       "    .dataframe tbody tr th:only-of-type {\n",
       "        vertical-align: middle;\n",
       "    }\n",
       "\n",
       "    .dataframe tbody tr th {\n",
       "        vertical-align: top;\n",
       "    }\n",
       "\n",
       "    .dataframe thead th {\n",
       "        text-align: right;\n",
       "    }\n",
       "</style>\n",
       "<table border=\"1\" class=\"dataframe\">\n",
       "  <thead>\n",
       "    <tr style=\"text-align: right;\">\n",
       "      <th></th>\n",
       "      <th>id</th>\n",
       "      <th>vendor_id</th>\n",
       "      <th>pickup_datetime</th>\n",
       "      <th>dropoff_datetime</th>\n",
       "      <th>passenger_count</th>\n",
       "      <th>pickup_longitude</th>\n",
       "      <th>pickup_latitude</th>\n",
       "      <th>dropoff_longitude</th>\n",
       "      <th>dropoff_latitude</th>\n",
       "      <th>store_and_fwd_flag</th>\n",
       "      <th>trip_duration</th>\n",
       "    </tr>\n",
       "  </thead>\n",
       "  <tbody>\n",
       "    <tr>\n",
       "      <th>0</th>\n",
       "      <td>id2875421</td>\n",
       "      <td>2</td>\n",
       "      <td>2016-03-14 17:24:55</td>\n",
       "      <td>2016-03-14 17:32:30</td>\n",
       "      <td>1</td>\n",
       "      <td>-73.982155</td>\n",
       "      <td>40.767937</td>\n",
       "      <td>-73.964630</td>\n",
       "      <td>40.765602</td>\n",
       "      <td>N</td>\n",
       "      <td>455</td>\n",
       "    </tr>\n",
       "    <tr>\n",
       "      <th>1</th>\n",
       "      <td>id0012891</td>\n",
       "      <td>2</td>\n",
       "      <td>2016-03-10 21:45:01</td>\n",
       "      <td>2016-03-10 22:05:26</td>\n",
       "      <td>1</td>\n",
       "      <td>-73.981049</td>\n",
       "      <td>40.744339</td>\n",
       "      <td>-73.973000</td>\n",
       "      <td>40.789989</td>\n",
       "      <td>N</td>\n",
       "      <td>1225</td>\n",
       "    </tr>\n",
       "    <tr>\n",
       "      <th>2</th>\n",
       "      <td>id3361153</td>\n",
       "      <td>1</td>\n",
       "      <td>2016-03-11 07:11:23</td>\n",
       "      <td>2016-03-11 07:20:09</td>\n",
       "      <td>1</td>\n",
       "      <td>-73.994560</td>\n",
       "      <td>40.750526</td>\n",
       "      <td>-73.978500</td>\n",
       "      <td>40.756191</td>\n",
       "      <td>N</td>\n",
       "      <td>526</td>\n",
       "    </tr>\n",
       "    <tr>\n",
       "      <th>3</th>\n",
       "      <td>id2129090</td>\n",
       "      <td>1</td>\n",
       "      <td>2016-03-14 14:05:39</td>\n",
       "      <td>2016-03-14 14:28:05</td>\n",
       "      <td>1</td>\n",
       "      <td>-73.975090</td>\n",
       "      <td>40.758766</td>\n",
       "      <td>-73.953201</td>\n",
       "      <td>40.765068</td>\n",
       "      <td>N</td>\n",
       "      <td>1346</td>\n",
       "    </tr>\n",
       "    <tr>\n",
       "      <th>4</th>\n",
       "      <td>id0256505</td>\n",
       "      <td>1</td>\n",
       "      <td>2016-03-14 15:04:38</td>\n",
       "      <td>2016-03-14 15:16:13</td>\n",
       "      <td>1</td>\n",
       "      <td>-73.994484</td>\n",
       "      <td>40.745087</td>\n",
       "      <td>-73.998993</td>\n",
       "      <td>40.722710</td>\n",
       "      <td>N</td>\n",
       "      <td>695</td>\n",
       "    </tr>\n",
       "  </tbody>\n",
       "</table>\n",
       "</div>"
      ],
      "text/plain": [
       "          id  vendor_id      pickup_datetime     dropoff_datetime  \\\n",
       "0  id2875421          2  2016-03-14 17:24:55  2016-03-14 17:32:30   \n",
       "1  id0012891          2  2016-03-10 21:45:01  2016-03-10 22:05:26   \n",
       "2  id3361153          1  2016-03-11 07:11:23  2016-03-11 07:20:09   \n",
       "3  id2129090          1  2016-03-14 14:05:39  2016-03-14 14:28:05   \n",
       "4  id0256505          1  2016-03-14 15:04:38  2016-03-14 15:16:13   \n",
       "\n",
       "   passenger_count  pickup_longitude  pickup_latitude  dropoff_longitude  \\\n",
       "0                1        -73.982155        40.767937         -73.964630   \n",
       "1                1        -73.981049        40.744339         -73.973000   \n",
       "2                1        -73.994560        40.750526         -73.978500   \n",
       "3                1        -73.975090        40.758766         -73.953201   \n",
       "4                1        -73.994484        40.745087         -73.998993   \n",
       "\n",
       "   dropoff_latitude store_and_fwd_flag  trip_duration  \n",
       "0         40.765602                  N            455  \n",
       "1         40.789989                  N           1225  \n",
       "2         40.756191                  N            526  \n",
       "3         40.765068                  N           1346  \n",
       "4         40.722710                  N            695  "
      ]
     },
     "execution_count": 2,
     "metadata": {},
     "output_type": "execute_result"
    }
   ],
   "source": [
    "DataSet = pd.read_csv(\"taxi-trips.csv\")\n",
    "DataSet.head()"
   ]
  },
  {
   "cell_type": "markdown",
   "metadata": {},
   "source": [
    "It gives basic informantion about the datasets' shape. It prints number of rows and columns"
   ]
  },
  {
   "cell_type": "code",
   "execution_count": 3,
   "metadata": {},
   "outputs": [
    {
     "name": "stdout",
     "output_type": "stream",
     "text": [
      "number of rows: 118185, number of columns: 11\n"
     ]
    }
   ],
   "source": [
    "NumberOfRows, NumberOfColumns = DataSet.shape\n",
    "print ('number of rows: {}, number of columns: {}'.format(NumberOfRows, NumberOfColumns))"
   ]
  },
  {
   "cell_type": "markdown",
   "metadata": {},
   "source": [
    "Again this cell gives basic information about dataset such as columns name and their types"
   ]
  },
  {
   "cell_type": "code",
   "execution_count": 4,
   "metadata": {},
   "outputs": [
    {
     "data": {
      "text/plain": [
       "id                     object\n",
       "vendor_id               int64\n",
       "pickup_datetime        object\n",
       "dropoff_datetime       object\n",
       "passenger_count         int64\n",
       "pickup_longitude      float64\n",
       "pickup_latitude       float64\n",
       "dropoff_longitude     float64\n",
       "dropoff_latitude      float64\n",
       "store_and_fwd_flag     object\n",
       "trip_duration           int64\n",
       "dtype: object"
      ]
     },
     "execution_count": 4,
     "metadata": {},
     "output_type": "execute_result"
    }
   ],
   "source": [
    "DataSet.dtypes"
   ]
  },
  {
   "cell_type": "markdown",
   "metadata": {},
   "source": [
    "It gives the detailed information about dataset. Also it helps us to understand and know more about our dataset"
   ]
  },
  {
   "cell_type": "code",
   "execution_count": 5,
   "metadata": {},
   "outputs": [
    {
     "data": {
      "text/html": [
       "<div>\n",
       "<style scoped>\n",
       "    .dataframe tbody tr th:only-of-type {\n",
       "        vertical-align: middle;\n",
       "    }\n",
       "\n",
       "    .dataframe tbody tr th {\n",
       "        vertical-align: top;\n",
       "    }\n",
       "\n",
       "    .dataframe thead th {\n",
       "        text-align: right;\n",
       "    }\n",
       "</style>\n",
       "<table border=\"1\" class=\"dataframe\">\n",
       "  <thead>\n",
       "    <tr style=\"text-align: right;\">\n",
       "      <th></th>\n",
       "      <th>vendor_id</th>\n",
       "      <th>passenger_count</th>\n",
       "      <th>pickup_longitude</th>\n",
       "      <th>pickup_latitude</th>\n",
       "      <th>dropoff_longitude</th>\n",
       "      <th>dropoff_latitude</th>\n",
       "      <th>trip_duration</th>\n",
       "    </tr>\n",
       "  </thead>\n",
       "  <tbody>\n",
       "    <tr>\n",
       "      <th>count</th>\n",
       "      <td>118185.000000</td>\n",
       "      <td>118185.000000</td>\n",
       "      <td>118185.000000</td>\n",
       "      <td>118185.000000</td>\n",
       "      <td>118185.000000</td>\n",
       "      <td>118185.000000</td>\n",
       "      <td>118185.000000</td>\n",
       "    </tr>\n",
       "    <tr>\n",
       "      <th>mean</th>\n",
       "      <td>1.534958</td>\n",
       "      <td>1.657148</td>\n",
       "      <td>-73.973971</td>\n",
       "      <td>40.751392</td>\n",
       "      <td>-73.973538</td>\n",
       "      <td>40.752212</td>\n",
       "      <td>927.186310</td>\n",
       "    </tr>\n",
       "    <tr>\n",
       "      <th>std</th>\n",
       "      <td>0.498779</td>\n",
       "      <td>1.313844</td>\n",
       "      <td>0.040456</td>\n",
       "      <td>0.027958</td>\n",
       "      <td>0.039192</td>\n",
       "      <td>0.032284</td>\n",
       "      <td>3118.710246</td>\n",
       "    </tr>\n",
       "    <tr>\n",
       "      <th>min</th>\n",
       "      <td>1.000000</td>\n",
       "      <td>0.000000</td>\n",
       "      <td>-79.487900</td>\n",
       "      <td>40.225803</td>\n",
       "      <td>-79.487900</td>\n",
       "      <td>40.225800</td>\n",
       "      <td>1.000000</td>\n",
       "    </tr>\n",
       "    <tr>\n",
       "      <th>25%</th>\n",
       "      <td>1.000000</td>\n",
       "      <td>1.000000</td>\n",
       "      <td>-73.991875</td>\n",
       "      <td>40.737835</td>\n",
       "      <td>-73.991394</td>\n",
       "      <td>40.736462</td>\n",
       "      <td>393.000000</td>\n",
       "    </tr>\n",
       "    <tr>\n",
       "      <th>50%</th>\n",
       "      <td>2.000000</td>\n",
       "      <td>1.000000</td>\n",
       "      <td>-73.981796</td>\n",
       "      <td>40.754501</td>\n",
       "      <td>-73.979759</td>\n",
       "      <td>40.754848</td>\n",
       "      <td>652.000000</td>\n",
       "    </tr>\n",
       "    <tr>\n",
       "      <th>75%</th>\n",
       "      <td>2.000000</td>\n",
       "      <td>2.000000</td>\n",
       "      <td>-73.967575</td>\n",
       "      <td>40.768471</td>\n",
       "      <td>-73.962990</td>\n",
       "      <td>40.770077</td>\n",
       "      <td>1048.000000</td>\n",
       "    </tr>\n",
       "    <tr>\n",
       "      <th>max</th>\n",
       "      <td>2.000000</td>\n",
       "      <td>6.000000</td>\n",
       "      <td>-73.425018</td>\n",
       "      <td>41.292198</td>\n",
       "      <td>-73.055977</td>\n",
       "      <td>41.292198</td>\n",
       "      <td>86366.000000</td>\n",
       "    </tr>\n",
       "  </tbody>\n",
       "</table>\n",
       "</div>"
      ],
      "text/plain": [
       "           vendor_id  passenger_count  pickup_longitude  pickup_latitude  \\\n",
       "count  118185.000000    118185.000000     118185.000000    118185.000000   \n",
       "mean        1.534958         1.657148        -73.973971        40.751392   \n",
       "std         0.498779         1.313844          0.040456         0.027958   \n",
       "min         1.000000         0.000000        -79.487900        40.225803   \n",
       "25%         1.000000         1.000000        -73.991875        40.737835   \n",
       "50%         2.000000         1.000000        -73.981796        40.754501   \n",
       "75%         2.000000         2.000000        -73.967575        40.768471   \n",
       "max         2.000000         6.000000        -73.425018        41.292198   \n",
       "\n",
       "       dropoff_longitude  dropoff_latitude  trip_duration  \n",
       "count      118185.000000     118185.000000  118185.000000  \n",
       "mean          -73.973538         40.752212     927.186310  \n",
       "std             0.039192          0.032284    3118.710246  \n",
       "min           -79.487900         40.225800       1.000000  \n",
       "25%           -73.991394         40.736462     393.000000  \n",
       "50%           -73.979759         40.754848     652.000000  \n",
       "75%           -73.962990         40.770077    1048.000000  \n",
       "max           -73.055977         41.292198   86366.000000  "
      ]
     },
     "execution_count": 5,
     "metadata": {},
     "output_type": "execute_result"
    }
   ],
   "source": [
    "DataSet.describe()"
   ]
  },
  {
   "cell_type": "markdown",
   "metadata": {},
   "source": [
    "We have longitude and latitude, we want to convert this numbers to location address. For that reason, we used reversed geocoder. I took the location address for pickup location. And i print it."
   ]
  },
  {
   "cell_type": "code",
   "execution_count": 6,
   "metadata": {},
   "outputs": [
    {
     "name": "stdout",
     "output_type": "stream",
     "text": [
      "Loading formatted geocoded file...\n"
     ]
    },
    {
     "name": "stderr",
     "output_type": "stream",
     "text": [
      "IOPub data rate exceeded.\n",
      "The notebook server will temporarily stop sending output\n",
      "to the client in order to avoid crashing it.\n",
      "To change this limit, set the config variable\n",
      "`--NotebookApp.iopub_data_rate_limit`.\n",
      "\n",
      "Current values:\n",
      "NotebookApp.iopub_data_rate_limit=1000000.0 (bytes/sec)\n",
      "NotebookApp.rate_limit_window=3.0 (secs)\n",
      "\n"
     ]
    }
   ],
   "source": [
    "import reverse_geocoder as rg\n",
    "\n",
    "List_xCor = DataSet[\"pickup_longitude\"]\n",
    "List_yCor = DataSet[\"pickup_latitude\"]\n",
    "\n",
    "PickupList = list(zip(List_yCor, List_xCor))\n",
    "PickupResults = rg.search(PickupList)\n",
    "\n",
    "print (PickupResults)\n"
   ]
  },
  {
   "cell_type": "markdown",
   "metadata": {},
   "source": [
    "I have the location address but we want to find name of this location and add this pickup names to our data as a new column named \"pickup_district\". On this cell i find the name of these locations and added to my dataset. Then i printed  all these places."
   ]
  },
  {
   "cell_type": "code",
   "execution_count": 7,
   "metadata": {},
   "outputs": [
    {
     "name": "stdout",
     "output_type": "stream",
     "text": [
      "0                Manhattan\n",
      "1         Long Island City\n",
      "2                Weehawken\n",
      "3                Manhattan\n",
      "4            New York City\n",
      "5                  Hoboken\n",
      "6                Manhattan\n",
      "7                Manhattan\n",
      "8            New York City\n",
      "9         Long Island City\n",
      "10               Manhattan\n",
      "11           New York City\n",
      "12               Manhattan\n",
      "13               Manhattan\n",
      "14        Long Island City\n",
      "15               Manhattan\n",
      "16               Manhattan\n",
      "17           New York City\n",
      "18           New York City\n",
      "19               Manhattan\n",
      "20               Manhattan\n",
      "21               Weehawken\n",
      "22               Manhattan\n",
      "23               Manhattan\n",
      "24               Manhattan\n",
      "25           New York City\n",
      "26               Weehawken\n",
      "27               Weehawken\n",
      "28               Manhattan\n",
      "29               Weehawken\n",
      "                ...       \n",
      "118155           Weehawken\n",
      "118156           Manhattan\n",
      "118157           Manhattan\n",
      "118158           Manhattan\n",
      "118159           Manhattan\n",
      "118160           Manhattan\n",
      "118161       New York City\n",
      "118162           Manhattan\n",
      "118163       New York City\n",
      "118164       New York City\n",
      "118165            Brooklyn\n",
      "118166    Long Island City\n",
      "118167              Inwood\n",
      "118168           Weehawken\n",
      "118169    Long Island City\n",
      "118170           Weehawken\n",
      "118171           Manhattan\n",
      "118172           Manhattan\n",
      "118173       New York City\n",
      "118174       New York City\n",
      "118175       New York City\n",
      "118176    Long Island City\n",
      "118177       New York City\n",
      "118178           Manhattan\n",
      "118179       New York City\n",
      "118180           Manhattan\n",
      "118181           Manhattan\n",
      "118182           Weehawken\n",
      "118183    Long Island City\n",
      "118184       New York City\n",
      "Name: pickup_district, Length: 118185, dtype: object\n"
     ]
    }
   ],
   "source": [
    "PickupName = []\n",
    "for i in PickupResults:\n",
    "    PickupName.append(i.get('name'))\n",
    "DataSet['pickup_district'] = PickupName\n",
    "print(DataSet['pickup_district'])\n"
   ]
  },
  {
   "cell_type": "markdown",
   "metadata": {},
   "source": [
    "I did  the same process for the dropoff location. I used reverse geocoder to do this. "
   ]
  },
  {
   "cell_type": "code",
   "execution_count": 8,
   "metadata": {},
   "outputs": [
    {
     "name": "stderr",
     "output_type": "stream",
     "text": [
      "IOPub data rate exceeded.\n",
      "The notebook server will temporarily stop sending output\n",
      "to the client in order to avoid crashing it.\n",
      "To change this limit, set the config variable\n",
      "`--NotebookApp.iopub_data_rate_limit`.\n",
      "\n",
      "Current values:\n",
      "NotebookApp.iopub_data_rate_limit=1000000.0 (bytes/sec)\n",
      "NotebookApp.rate_limit_window=3.0 (secs)\n",
      "\n"
     ]
    }
   ],
   "source": [
    "List1_xCor = DataSet['dropoff_longitude']\n",
    "List1_yCor = DataSet['dropoff_latitude']\n",
    "\n",
    "DropoffList = list(zip(List1_yCor, List1_xCor))\n",
    "DropoffResult = rg.search(DropoffList)\n",
    "\n",
    "print (DropoffResult)"
   ]
  },
  {
   "cell_type": "markdown",
   "metadata": {},
   "source": [
    "We found the addresses for the dropoff locations but we want just name of these location. We found this locations and we add new column named \"dropoff_district\"."
   ]
  },
  {
   "cell_type": "code",
   "execution_count": 9,
   "metadata": {},
   "outputs": [
    {
     "data": {
      "text/html": [
       "<div>\n",
       "<style scoped>\n",
       "    .dataframe tbody tr th:only-of-type {\n",
       "        vertical-align: middle;\n",
       "    }\n",
       "\n",
       "    .dataframe tbody tr th {\n",
       "        vertical-align: top;\n",
       "    }\n",
       "\n",
       "    .dataframe thead th {\n",
       "        text-align: right;\n",
       "    }\n",
       "</style>\n",
       "<table border=\"1\" class=\"dataframe\">\n",
       "  <thead>\n",
       "    <tr style=\"text-align: right;\">\n",
       "      <th></th>\n",
       "      <th>id</th>\n",
       "      <th>vendor_id</th>\n",
       "      <th>pickup_datetime</th>\n",
       "      <th>dropoff_datetime</th>\n",
       "      <th>passenger_count</th>\n",
       "      <th>pickup_longitude</th>\n",
       "      <th>pickup_latitude</th>\n",
       "      <th>dropoff_longitude</th>\n",
       "      <th>dropoff_latitude</th>\n",
       "      <th>store_and_fwd_flag</th>\n",
       "      <th>trip_duration</th>\n",
       "      <th>pickup_district</th>\n",
       "      <th>dropoff_district</th>\n",
       "    </tr>\n",
       "  </thead>\n",
       "  <tbody>\n",
       "    <tr>\n",
       "      <th>0</th>\n",
       "      <td>id2875421</td>\n",
       "      <td>2</td>\n",
       "      <td>2016-03-14 17:24:55</td>\n",
       "      <td>2016-03-14 17:32:30</td>\n",
       "      <td>1</td>\n",
       "      <td>-73.982155</td>\n",
       "      <td>40.767937</td>\n",
       "      <td>-73.964630</td>\n",
       "      <td>40.765602</td>\n",
       "      <td>N</td>\n",
       "      <td>455</td>\n",
       "      <td>Manhattan</td>\n",
       "      <td>Manhattan</td>\n",
       "    </tr>\n",
       "    <tr>\n",
       "      <th>1</th>\n",
       "      <td>id0012891</td>\n",
       "      <td>2</td>\n",
       "      <td>2016-03-10 21:45:01</td>\n",
       "      <td>2016-03-10 22:05:26</td>\n",
       "      <td>1</td>\n",
       "      <td>-73.981049</td>\n",
       "      <td>40.744339</td>\n",
       "      <td>-73.973000</td>\n",
       "      <td>40.789989</td>\n",
       "      <td>N</td>\n",
       "      <td>1225</td>\n",
       "      <td>Long Island City</td>\n",
       "      <td>Manhattan</td>\n",
       "    </tr>\n",
       "    <tr>\n",
       "      <th>2</th>\n",
       "      <td>id3361153</td>\n",
       "      <td>1</td>\n",
       "      <td>2016-03-11 07:11:23</td>\n",
       "      <td>2016-03-11 07:20:09</td>\n",
       "      <td>1</td>\n",
       "      <td>-73.994560</td>\n",
       "      <td>40.750526</td>\n",
       "      <td>-73.978500</td>\n",
       "      <td>40.756191</td>\n",
       "      <td>N</td>\n",
       "      <td>526</td>\n",
       "      <td>Weehawken</td>\n",
       "      <td>Manhattan</td>\n",
       "    </tr>\n",
       "    <tr>\n",
       "      <th>3</th>\n",
       "      <td>id2129090</td>\n",
       "      <td>1</td>\n",
       "      <td>2016-03-14 14:05:39</td>\n",
       "      <td>2016-03-14 14:28:05</td>\n",
       "      <td>1</td>\n",
       "      <td>-73.975090</td>\n",
       "      <td>40.758766</td>\n",
       "      <td>-73.953201</td>\n",
       "      <td>40.765068</td>\n",
       "      <td>N</td>\n",
       "      <td>1346</td>\n",
       "      <td>Manhattan</td>\n",
       "      <td>Long Island City</td>\n",
       "    </tr>\n",
       "    <tr>\n",
       "      <th>4</th>\n",
       "      <td>id0256505</td>\n",
       "      <td>1</td>\n",
       "      <td>2016-03-14 15:04:38</td>\n",
       "      <td>2016-03-14 15:16:13</td>\n",
       "      <td>1</td>\n",
       "      <td>-73.994484</td>\n",
       "      <td>40.745087</td>\n",
       "      <td>-73.998993</td>\n",
       "      <td>40.722710</td>\n",
       "      <td>N</td>\n",
       "      <td>695</td>\n",
       "      <td>New York City</td>\n",
       "      <td>New York City</td>\n",
       "    </tr>\n",
       "  </tbody>\n",
       "</table>\n",
       "</div>"
      ],
      "text/plain": [
       "          id  vendor_id      pickup_datetime     dropoff_datetime  \\\n",
       "0  id2875421          2  2016-03-14 17:24:55  2016-03-14 17:32:30   \n",
       "1  id0012891          2  2016-03-10 21:45:01  2016-03-10 22:05:26   \n",
       "2  id3361153          1  2016-03-11 07:11:23  2016-03-11 07:20:09   \n",
       "3  id2129090          1  2016-03-14 14:05:39  2016-03-14 14:28:05   \n",
       "4  id0256505          1  2016-03-14 15:04:38  2016-03-14 15:16:13   \n",
       "\n",
       "   passenger_count  pickup_longitude  pickup_latitude  dropoff_longitude  \\\n",
       "0                1        -73.982155        40.767937         -73.964630   \n",
       "1                1        -73.981049        40.744339         -73.973000   \n",
       "2                1        -73.994560        40.750526         -73.978500   \n",
       "3                1        -73.975090        40.758766         -73.953201   \n",
       "4                1        -73.994484        40.745087         -73.998993   \n",
       "\n",
       "   dropoff_latitude store_and_fwd_flag  trip_duration   pickup_district  \\\n",
       "0         40.765602                  N            455         Manhattan   \n",
       "1         40.789989                  N           1225  Long Island City   \n",
       "2         40.756191                  N            526         Weehawken   \n",
       "3         40.765068                  N           1346         Manhattan   \n",
       "4         40.722710                  N            695     New York City   \n",
       "\n",
       "   dropoff_district  \n",
       "0         Manhattan  \n",
       "1         Manhattan  \n",
       "2         Manhattan  \n",
       "3  Long Island City  \n",
       "4     New York City  "
      ]
     },
     "execution_count": 9,
     "metadata": {},
     "output_type": "execute_result"
    }
   ],
   "source": [
    "pickup_name1 = []\n",
    "for i in DropoffResult:\n",
    "    pickup_name1.append(i.get('name'))\n",
    "DataSet['dropoff_district'] = pickup_name1\n",
    "DataSet.head()"
   ]
  },
  {
   "cell_type": "markdown",
   "metadata": {},
   "source": [
    "Using appropriate formulas we found the top 5 pickup places."
   ]
  },
  {
   "cell_type": "code",
   "execution_count": 10,
   "metadata": {},
   "outputs": [
    {
     "name": "stdout",
     "output_type": "stream",
     "text": [
      "pickup_district\n",
      "Manhattan           45329\n",
      "New York City       34625\n",
      "Long Island City    17787\n",
      "Weehawken           11334\n",
      "The Bronx            2777\n",
      "Name: pickup_district, dtype: int64\n"
     ]
    }
   ],
   "source": [
    "top5_district_leave = DataSet.groupby(by=\"pickup_district\")[\"pickup_district\"].count().sort_values(ascending=False)[:5]\n",
    "print(top5_district_leave)"
   ]
  },
  {
   "cell_type": "markdown",
   "metadata": {},
   "source": [
    "i printed the top 5 pickup places as a bar chart to see it cleary."
   ]
  },
  {
   "cell_type": "code",
   "execution_count": 11,
   "metadata": {},
   "outputs": [
    {
     "data": {
      "text/plain": [
       "<matplotlib.axes._subplots.AxesSubplot at 0x27d271b0940>"
      ]
     },
     "execution_count": 11,
     "metadata": {},
     "output_type": "execute_result"
    },
    {
     "data": {
      "image/png": "[encoded data removed]",
      "text/plain": [
       "<Figure size 432x288 with 1 Axes>"
      ]
     },
     "metadata": {
      "needs_background": "light"
     },
     "output_type": "display_data"
    }
   ],
   "source": [
    "top5_district_leave.plot(kind=\"bar\",\n",
    "                   color=\"red\",\n",
    "                   rot=1500)"
   ]
  },
  {
   "cell_type": "markdown",
   "metadata": {},
   "source": [
    "Using appropriate formulas we found the top 5 dropoff places."
   ]
  },
  {
   "cell_type": "code",
   "execution_count": 12,
   "metadata": {},
   "outputs": [
    {
     "name": "stdout",
     "output_type": "stream",
     "text": [
      "dropoff_district\n",
      "Manhattan           44478\n",
      "New York City       31082\n",
      "Long Island City    19919\n",
      "Weehawken           10621\n",
      "Brooklyn             2059\n",
      "Name: dropoff_district, dtype: int64\n"
     ]
    }
   ],
   "source": [
    "top5_district_arrive = DataSet.groupby(by=\"dropoff_district\")[\"dropoff_district\"].count().sort_values(ascending=False)[:5]\n",
    "print(top5_district_arrive)"
   ]
  },
  {
   "cell_type": "markdown",
   "metadata": {},
   "source": [
    "I printed the top 5 dropoff places as a bar chart to see it cleary."
   ]
  },
  {
   "cell_type": "code",
   "execution_count": 13,
   "metadata": {},
   "outputs": [
    {
     "data": {
      "text/plain": [
       "<matplotlib.axes._subplots.AxesSubplot at 0x27d2714b550>"
      ]
     },
     "execution_count": 13,
     "metadata": {},
     "output_type": "execute_result"
    },
    {
     "data": {
      "image/png": "[encoded data removed]",
      "text/plain": [
       "<Figure size 432x288 with 1 Axes>"
      ]
     },
     "metadata": {
      "needs_background": "light"
     },
     "output_type": "display_data"
    }
   ],
   "source": [
    "top5_district_arrive.plot(kind=\"bar\",\n",
    "                   color=\"red\",\n",
    "                   rot=1500)"
   ]
  },
  {
   "cell_type": "markdown",
   "metadata": {},
   "source": [
    "Using geopy library we calculated the distance between the pickup location and dropoff location. Then we created new column which is called distance. To see what we did i printed small sample of our data with new added column."
   ]
  },
  {
   "cell_type": "code",
   "execution_count": 14,
   "metadata": {},
   "outputs": [
    {
     "data": {
      "text/html": [
       "<div>\n",
       "<style scoped>\n",
       "    .dataframe tbody tr th:only-of-type {\n",
       "        vertical-align: middle;\n",
       "    }\n",
       "\n",
       "    .dataframe tbody tr th {\n",
       "        vertical-align: top;\n",
       "    }\n",
       "\n",
       "    .dataframe thead th {\n",
       "        text-align: right;\n",
       "    }\n",
       "</style>\n",
       "<table border=\"1\" class=\"dataframe\">\n",
       "  <thead>\n",
       "    <tr style=\"text-align: right;\">\n",
       "      <th></th>\n",
       "      <th>id</th>\n",
       "      <th>vendor_id</th>\n",
       "      <th>pickup_datetime</th>\n",
       "      <th>dropoff_datetime</th>\n",
       "      <th>passenger_count</th>\n",
       "      <th>pickup_longitude</th>\n",
       "      <th>pickup_latitude</th>\n",
       "      <th>dropoff_longitude</th>\n",
       "      <th>dropoff_latitude</th>\n",
       "      <th>store_and_fwd_flag</th>\n",
       "      <th>trip_duration</th>\n",
       "      <th>pickup_district</th>\n",
       "      <th>dropoff_district</th>\n",
       "      <th>distance</th>\n",
       "    </tr>\n",
       "  </thead>\n",
       "  <tbody>\n",
       "    <tr>\n",
       "      <th>0</th>\n",
       "      <td>id2875421</td>\n",
       "      <td>2</td>\n",
       "      <td>2016-03-14 17:24:55</td>\n",
       "      <td>2016-03-14 17:32:30</td>\n",
       "      <td>1</td>\n",
       "      <td>-73.982155</td>\n",
       "      <td>40.767937</td>\n",
       "      <td>-73.964630</td>\n",
       "      <td>40.765602</td>\n",
       "      <td>N</td>\n",
       "      <td>455</td>\n",
       "      <td>Manhattan</td>\n",
       "      <td>Manhattan</td>\n",
       "      <td>0.931139</td>\n",
       "    </tr>\n",
       "    <tr>\n",
       "      <th>1</th>\n",
       "      <td>id0012891</td>\n",
       "      <td>2</td>\n",
       "      <td>2016-03-10 21:45:01</td>\n",
       "      <td>2016-03-10 22:05:26</td>\n",
       "      <td>1</td>\n",
       "      <td>-73.981049</td>\n",
       "      <td>40.744339</td>\n",
       "      <td>-73.973000</td>\n",
       "      <td>40.789989</td>\n",
       "      <td>N</td>\n",
       "      <td>1225</td>\n",
       "      <td>Long Island City</td>\n",
       "      <td>Manhattan</td>\n",
       "      <td>3.182147</td>\n",
       "    </tr>\n",
       "    <tr>\n",
       "      <th>2</th>\n",
       "      <td>id3361153</td>\n",
       "      <td>1</td>\n",
       "      <td>2016-03-11 07:11:23</td>\n",
       "      <td>2016-03-11 07:20:09</td>\n",
       "      <td>1</td>\n",
       "      <td>-73.994560</td>\n",
       "      <td>40.750526</td>\n",
       "      <td>-73.978500</td>\n",
       "      <td>40.756191</td>\n",
       "      <td>N</td>\n",
       "      <td>526</td>\n",
       "      <td>Weehawken</td>\n",
       "      <td>Manhattan</td>\n",
       "      <td>0.927234</td>\n",
       "    </tr>\n",
       "    <tr>\n",
       "      <th>3</th>\n",
       "      <td>id2129090</td>\n",
       "      <td>1</td>\n",
       "      <td>2016-03-14 14:05:39</td>\n",
       "      <td>2016-03-14 14:28:05</td>\n",
       "      <td>1</td>\n",
       "      <td>-73.975090</td>\n",
       "      <td>40.758766</td>\n",
       "      <td>-73.953201</td>\n",
       "      <td>40.765068</td>\n",
       "      <td>N</td>\n",
       "      <td>1346</td>\n",
       "      <td>Manhattan</td>\n",
       "      <td>Long Island City</td>\n",
       "      <td>1.225473</td>\n",
       "    </tr>\n",
       "    <tr>\n",
       "      <th>4</th>\n",
       "      <td>id0256505</td>\n",
       "      <td>1</td>\n",
       "      <td>2016-03-14 15:04:38</td>\n",
       "      <td>2016-03-14 15:16:13</td>\n",
       "      <td>1</td>\n",
       "      <td>-73.994484</td>\n",
       "      <td>40.745087</td>\n",
       "      <td>-73.998993</td>\n",
       "      <td>40.722710</td>\n",
       "      <td>N</td>\n",
       "      <td>695</td>\n",
       "      <td>New York City</td>\n",
       "      <td>New York City</td>\n",
       "      <td>1.564023</td>\n",
       "    </tr>\n",
       "  </tbody>\n",
       "</table>\n",
       "</div>"
      ],
      "text/plain": [
       "          id  vendor_id      pickup_datetime     dropoff_datetime  \\\n",
       "0  id2875421          2  2016-03-14 17:24:55  2016-03-14 17:32:30   \n",
       "1  id0012891          2  2016-03-10 21:45:01  2016-03-10 22:05:26   \n",
       "2  id3361153          1  2016-03-11 07:11:23  2016-03-11 07:20:09   \n",
       "3  id2129090          1  2016-03-14 14:05:39  2016-03-14 14:28:05   \n",
       "4  id0256505          1  2016-03-14 15:04:38  2016-03-14 15:16:13   \n",
       "\n",
       "   passenger_count  pickup_longitude  pickup_latitude  dropoff_longitude  \\\n",
       "0                1        -73.982155        40.767937         -73.964630   \n",
       "1                1        -73.981049        40.744339         -73.973000   \n",
       "2                1        -73.994560        40.750526         -73.978500   \n",
       "3                1        -73.975090        40.758766         -73.953201   \n",
       "4                1        -73.994484        40.745087         -73.998993   \n",
       "\n",
       "   dropoff_latitude store_and_fwd_flag  trip_duration   pickup_district  \\\n",
       "0         40.765602                  N            455         Manhattan   \n",
       "1         40.789989                  N           1225  Long Island City   \n",
       "2         40.756191                  N            526         Weehawken   \n",
       "3         40.765068                  N           1346         Manhattan   \n",
       "4         40.722710                  N            695     New York City   \n",
       "\n",
       "   dropoff_district  distance  \n",
       "0         Manhattan  0.931139  \n",
       "1         Manhattan  3.182147  \n",
       "2         Manhattan  0.927234  \n",
       "3  Long Island City  1.225473  \n",
       "4     New York City  1.564023  "
      ]
     },
     "execution_count": 14,
     "metadata": {},
     "output_type": "execute_result"
    }
   ],
   "source": [
    "from geopy import distance\n",
    "DistList=[]\n",
    "for i in range (len(PickupName)):\n",
    "    j=(distance.great_circle(PickupList[i], DropoffList[i]).miles)\n",
    "    DistList.append(j)\n",
    "    \n",
    "DataSet[\"distance\"] = DistList\n",
    "DataSet.head()"
   ]
  },
  {
   "cell_type": "markdown",
   "metadata": {},
   "source": [
    "We took the datetime from our dataset and we take last part of this data and found the hour. Then we checked the hour is in which interval. Then we gave the appropriate name for all of these time intervals. Finally we create new column which is called time_of_day and we added to our dataset."
   ]
  },
  {
   "cell_type": "code",
   "execution_count": 15,
   "metadata": {},
   "outputs": [
    {
     "data": {
      "text/html": [
       "<div>\n",
       "<style scoped>\n",
       "    .dataframe tbody tr th:only-of-type {\n",
       "        vertical-align: middle;\n",
       "    }\n",
       "\n",
       "    .dataframe tbody tr th {\n",
       "        vertical-align: top;\n",
       "    }\n",
       "\n",
       "    .dataframe thead th {\n",
       "        text-align: right;\n",
       "    }\n",
       "</style>\n",
       "<table border=\"1\" class=\"dataframe\">\n",
       "  <thead>\n",
       "    <tr style=\"text-align: right;\">\n",
       "      <th></th>\n",
       "      <th>id</th>\n",
       "      <th>vendor_id</th>\n",
       "      <th>pickup_datetime</th>\n",
       "      <th>dropoff_datetime</th>\n",
       "      <th>passenger_count</th>\n",
       "      <th>pickup_longitude</th>\n",
       "      <th>pickup_latitude</th>\n",
       "      <th>dropoff_longitude</th>\n",
       "      <th>dropoff_latitude</th>\n",
       "      <th>store_and_fwd_flag</th>\n",
       "      <th>trip_duration</th>\n",
       "      <th>pickup_district</th>\n",
       "      <th>dropoff_district</th>\n",
       "      <th>distance</th>\n",
       "      <th>time_of_day</th>\n",
       "    </tr>\n",
       "  </thead>\n",
       "  <tbody>\n",
       "    <tr>\n",
       "      <th>0</th>\n",
       "      <td>id2875421</td>\n",
       "      <td>2</td>\n",
       "      <td>2016-03-14 17:24:55</td>\n",
       "      <td>2016-03-14 17:32:30</td>\n",
       "      <td>1</td>\n",
       "      <td>-73.982155</td>\n",
       "      <td>40.767937</td>\n",
       "      <td>-73.964630</td>\n",
       "      <td>40.765602</td>\n",
       "      <td>N</td>\n",
       "      <td>455</td>\n",
       "      <td>Manhattan</td>\n",
       "      <td>Manhattan</td>\n",
       "      <td>0.931139</td>\n",
       "      <td>rush_hour_evening</td>\n",
       "    </tr>\n",
       "    <tr>\n",
       "      <th>1</th>\n",
       "      <td>id0012891</td>\n",
       "      <td>2</td>\n",
       "      <td>2016-03-10 21:45:01</td>\n",
       "      <td>2016-03-10 22:05:26</td>\n",
       "      <td>1</td>\n",
       "      <td>-73.981049</td>\n",
       "      <td>40.744339</td>\n",
       "      <td>-73.973000</td>\n",
       "      <td>40.789989</td>\n",
       "      <td>N</td>\n",
       "      <td>1225</td>\n",
       "      <td>Long Island City</td>\n",
       "      <td>Manhattan</td>\n",
       "      <td>3.182147</td>\n",
       "      <td>evening</td>\n",
       "    </tr>\n",
       "    <tr>\n",
       "      <th>2</th>\n",
       "      <td>id3361153</td>\n",
       "      <td>1</td>\n",
       "      <td>2016-03-11 07:11:23</td>\n",
       "      <td>2016-03-11 07:20:09</td>\n",
       "      <td>1</td>\n",
       "      <td>-73.994560</td>\n",
       "      <td>40.750526</td>\n",
       "      <td>-73.978500</td>\n",
       "      <td>40.756191</td>\n",
       "      <td>N</td>\n",
       "      <td>526</td>\n",
       "      <td>Weehawken</td>\n",
       "      <td>Manhattan</td>\n",
       "      <td>0.927234</td>\n",
       "      <td>rush_hour_morning</td>\n",
       "    </tr>\n",
       "    <tr>\n",
       "      <th>3</th>\n",
       "      <td>id2129090</td>\n",
       "      <td>1</td>\n",
       "      <td>2016-03-14 14:05:39</td>\n",
       "      <td>2016-03-14 14:28:05</td>\n",
       "      <td>1</td>\n",
       "      <td>-73.975090</td>\n",
       "      <td>40.758766</td>\n",
       "      <td>-73.953201</td>\n",
       "      <td>40.765068</td>\n",
       "      <td>N</td>\n",
       "      <td>1346</td>\n",
       "      <td>Manhattan</td>\n",
       "      <td>Long Island City</td>\n",
       "      <td>1.225473</td>\n",
       "      <td>afternoon</td>\n",
       "    </tr>\n",
       "    <tr>\n",
       "      <th>4</th>\n",
       "      <td>id0256505</td>\n",
       "      <td>1</td>\n",
       "      <td>2016-03-14 15:04:38</td>\n",
       "      <td>2016-03-14 15:16:13</td>\n",
       "      <td>1</td>\n",
       "      <td>-73.994484</td>\n",
       "      <td>40.745087</td>\n",
       "      <td>-73.998993</td>\n",
       "      <td>40.722710</td>\n",
       "      <td>N</td>\n",
       "      <td>695</td>\n",
       "      <td>New York City</td>\n",
       "      <td>New York City</td>\n",
       "      <td>1.564023</td>\n",
       "      <td>afternoon</td>\n",
       "    </tr>\n",
       "  </tbody>\n",
       "</table>\n",
       "</div>"
      ],
      "text/plain": [
       "          id  vendor_id      pickup_datetime     dropoff_datetime  \\\n",
       "0  id2875421          2  2016-03-14 17:24:55  2016-03-14 17:32:30   \n",
       "1  id0012891          2  2016-03-10 21:45:01  2016-03-10 22:05:26   \n",
       "2  id3361153          1  2016-03-11 07:11:23  2016-03-11 07:20:09   \n",
       "3  id2129090          1  2016-03-14 14:05:39  2016-03-14 14:28:05   \n",
       "4  id0256505          1  2016-03-14 15:04:38  2016-03-14 15:16:13   \n",
       "\n",
       "   passenger_count  pickup_longitude  pickup_latitude  dropoff_longitude  \\\n",
       "0                1        -73.982155        40.767937         -73.964630   \n",
       "1                1        -73.981049        40.744339         -73.973000   \n",
       "2                1        -73.994560        40.750526         -73.978500   \n",
       "3                1        -73.975090        40.758766         -73.953201   \n",
       "4                1        -73.994484        40.745087         -73.998993   \n",
       "\n",
       "   dropoff_latitude store_and_fwd_flag  trip_duration   pickup_district  \\\n",
       "0         40.765602                  N            455         Manhattan   \n",
       "1         40.789989                  N           1225  Long Island City   \n",
       "2         40.756191                  N            526         Weehawken   \n",
       "3         40.765068                  N           1346         Manhattan   \n",
       "4         40.722710                  N            695     New York City   \n",
       "\n",
       "   dropoff_district  distance        time_of_day  \n",
       "0         Manhattan  0.931139  rush_hour_evening  \n",
       "1         Manhattan  3.182147            evening  \n",
       "2         Manhattan  0.927234  rush_hour_morning  \n",
       "3  Long Island City  1.225473          afternoon  \n",
       "4     New York City  1.564023          afternoon  "
      ]
     },
     "execution_count": 15,
     "metadata": {},
     "output_type": "execute_result"
    }
   ],
   "source": [
    "def DayAndTime(row):\n",
    "    FindPickupTime = row[\"pickup_datetime\"]\n",
    "    HourMinSec = FindPickupTime[-8:]\n",
    "    \n",
    "    hour = int(HourMinSec[:2])\n",
    "    \n",
    "           \n",
    "    if hour >= 0 and hour < 7:\n",
    "        return \"late_night\"\n",
    "    elif hour >= 7 and hour < 9:\n",
    "        return \"rush_hour_morning\"\n",
    "    elif hour >= 9 and hour < 16:\n",
    "        return \"afternoon\"\n",
    "    elif hour >= 16 and hour < 18:\n",
    "        return \"rush_hour_evening\"\n",
    "    elif hour >= 18 and hour < 23:\n",
    "        return \"evening\"\n",
    "    elif hour >= 23 and hour < 24:\n",
    "        return \"late_night\"\n",
    "\n",
    "\n",
    "DataSet['time_of_day'] = DataSet.apply(DayAndTime, axis=1)  \n",
    "\n",
    "DataSet.head()"
   ]
  },
  {
   "cell_type": "markdown",
   "metadata": {},
   "source": [
    " To show how the average distance varies as time of the day changes, we created variables and we initialized these variables to 0. Then we calculated average distance according to time of day changes. Finally, i show that information via bar chart.\n",
    " As we can see there is some time of days have longer distance than others."
   ]
  },
  {
   "cell_type": "code",
   "execution_count": 17,
   "metadata": {},
   "outputs": [
    {
     "data": {
      "image/png": "[encoded data removed]",
      "text/plain": [
       "<Figure size 432x288 with 1 Axes>"
      ]
     },
     "metadata": {
      "needs_background": "light"
     },
     "output_type": "display_data"
    }
   ],
   "source": [
    "sum = 0.0\n",
    "rush_Hour_Morning = 0.0\n",
    "afternoon = 0.0\n",
    "rush_Hour_Evening = 0.0\n",
    "evening = 0.0\n",
    "late_Night = 0.0\n",
    "for _, row in DataSet.iterrows():\n",
    "    dist = float(row['distance'])\n",
    "    name = row[\"time_of_day\"]\n",
    "    sum += dist\n",
    "    if name == \"rush_hour_morning\":\n",
    "        rush_Hour_Morning += dist\n",
    "    elif name == \"afternoon\":\n",
    "        afternoon += dist\n",
    "    elif name == \"rush_hour_evening\":\n",
    "        rush_Hour_Evening += dist\n",
    "    elif name == \"evening\":\n",
    "        evening += dist\n",
    "    elif name == \"late_night\":\n",
    "        late_Night += dist\n",
    "\n",
    "Data = {'rush_hour_morning': rush_Hour_Morning / sum, 'afternoon': afternoon / sum, 'rush_hour_evening': rush_Hour_Evening / sum, 'evening': evening / sum, 'late_night': late_Night / sum}\n",
    "TimeInterval = list(Data.keys())\n",
    "Values = list(Data.values())\n",
    "\n",
    "\n",
    "plt.bar(TimeInterval, Values)\n",
    "plt.ylabel(\"Average Distance(miles)\")\n",
    "plt.xlabel(\"Time Of Day\")\n",
    "plt.title(\"Average Distance Varies as Time of the Day Changes\")\n",
    "plt.show()"
   ]
  },
  {
   "cell_type": "markdown",
   "metadata": {},
   "source": [
    "We did the same thing but this time for trip duration. We show the results on the bar chart. As we can see total trip duration in higher in afternoon and least in rush hour in the morning"
   ]
  },
  {
   "cell_type": "code",
   "execution_count": 18,
   "metadata": {},
   "outputs": [
    {
     "data": {
      "image/png": "[encoded data removed]",
      "text/plain": [
       "<Figure size 432x288 with 1 Axes>"
      ]
     },
     "metadata": {
      "needs_background": "light"
     },
     "output_type": "display_data"
    }
   ],
   "source": [
    "sum = 0.0\n",
    "rush_Hour_Morning1 = 0.0\n",
    "afternoon1 = 0.0\n",
    "rush_Hour_Evening1 = 0.0\n",
    "evening1 = 0.0\n",
    "late_Night1 = 0.0\n",
    "for _, row in DataSet.iterrows():\n",
    "    tripDur = int(row['trip_duration'])\n",
    "    name = row[\"time_of_day\"]\n",
    "    sum += tripDur\n",
    "    if name == \"rush_hour_morning\":\n",
    "        rush_Hour_Morning1 += tripDur\n",
    "    elif name == \"afternoon\":\n",
    "        afternoon1 += tripDur\n",
    "    elif name == \"rush_hour_evening\":\n",
    "        rush_Hour_Evening1 += tripDur\n",
    "    elif name == \"evening\":\n",
    "        evening1 += tripDur\n",
    "    elif name == \"late_night\":\n",
    "        late_Night1 += tripDur\n",
    "\n",
    "Data1 = {'rush_hour_morning': rush_Hour_Morning1, 'afternoon': afternoon1, 'rush_hour_evening': rush_Hour_Evening1, 'evening': evening1, 'late_night': late_Night1}\n",
    "TimeInterval1 = list(Data1.keys())\n",
    "Values1 = list(Data1.values())\n",
    "\n",
    "plt.bar(TimeInterval1, Values1)\n",
    "plt.ylabel(\"Total Trip duration\")\n",
    "plt.xlabel(\"Time of day\")\n",
    "plt.title(\"Trip duration varies as time of the day changes\")\n",
    "plt.show()"
   ]
  },
  {
   "cell_type": "markdown",
   "metadata": {},
   "source": [
    "I showed the relation between passenger count and distance mean. And to show it clearly i used bar chart."
   ]
  },
  {
   "cell_type": "code",
   "execution_count": 19,
   "metadata": {},
   "outputs": [
    {
     "data": {
      "image/png": "[encoded data removed]",
      "text/plain": [
       "<Figure size 432x288 with 1 Axes>"
      ]
     },
     "metadata": {
      "needs_background": "light"
     },
     "output_type": "display_data"
    }
   ],
   "source": [
    "test_type = \"distance\"\n",
    "\n",
    "oneTimePas = DataSet[DataSet[\"passenger_count\"] == 1][test_type] \n",
    "moreThanOnePas = DataSet[DataSet[\"passenger_count\"] > 1 ][test_type]    \n",
    "mean_of_oneTimePas = oneTimePas.mean()\n",
    "mean_of_moreThanOnePas = moreThanOnePas.mean()\n",
    "\n",
    "objects = ('one_pas', 'more_than_one++')\n",
    "y_pos = np.arange(len(objects))\n",
    "perf = [mean_of_oneTimePas,mean_of_moreThanOnePas]\n",
    " \n",
    "plt.bar(y_pos, perf, align='center', alpha=0.5)\n",
    "plt.xticks(y_pos, objects)\n",
    "plt.ylabel('Distance')\n",
    "plt.title('Passenger effect on Distance')\n",
    "\n",
    "plt.show()"
   ]
  },
  {
   "cell_type": "markdown",
   "metadata": {},
   "source": [
    "Since P-value smaller than 0.05 we reject null hypothesis so there is a correlation passenger count and distance."
   ]
  },
  {
   "cell_type": "code",
   "execution_count": 20,
   "metadata": {},
   "outputs": [
    {
     "data": {
      "text/plain": [
       "Ttest_indResult(statistic=-4.906081908000875, pvalue=9.315200645357913e-07)"
      ]
     },
     "execution_count": 20,
     "metadata": {},
     "output_type": "execute_result"
    }
   ],
   "source": [
    "stats.ttest_ind(oneTimePas, moreThanOnePas, equal_var=False)"
   ]
  },
  {
   "cell_type": "markdown",
   "metadata": {},
   "source": [
    "We divide days into two groups which is weekend and weekday. We will use this data next cell to find second null hypothesis. And i showed the beginning of what i did in this cell."
   ]
  },
  {
   "cell_type": "code",
   "execution_count": 21,
   "metadata": {},
   "outputs": [
    {
     "name": "stdout",
     "output_type": "stream",
     "text": [
      "0    weekday\n",
      "1    weekday\n",
      "2    weekday\n",
      "3    weekday\n",
      "4    weekday\n",
      "Name: DayOfWeek, dtype: object\n"
     ]
    }
   ],
   "source": [
    "day = pd.to_datetime(DataSet[\"pickup_datetime\"], infer_datetime_format=True)\n",
    "theDay=day.dt.day_name()\n",
    "array = []\n",
    "for i in range (len(DataSet['id'])):\n",
    "    if theDay[i] == \"Sunday\":\n",
    "        Week = \"weekend\"\n",
    "    elif theDay[i] == \"Saturday\":\n",
    "        Week = \"weekend\"\n",
    "    else:\n",
    "        Week = \"weekday\"\n",
    "    array.append(Week)\n",
    "    \n",
    "DataSet['DayOfWeek'] = array\n",
    "print(DataSet['DayOfWeek'].head())"
   ]
  },
  {
   "cell_type": "markdown",
   "metadata": {},
   "source": [
    "I calculated relation between distance and weekday, weekend.  Than i showed the correlation bar chart."
   ]
  },
  {
   "cell_type": "code",
   "execution_count": 22,
   "metadata": {},
   "outputs": [
    {
     "data": {
      "image/png": "[encoded data removed]",
      "text/plain": [
       "<Figure size 432x288 with 1 Axes>"
      ]
     },
     "metadata": {
      "needs_background": "light"
     },
     "output_type": "display_data"
    }
   ],
   "source": [
    "test_type = \"distance\"\n",
    "\n",
    "weekendVariable = DataSet[DataSet[\"DayOfWeek\"] == \"weekend\"][test_type] \n",
    "weekDayVariable = DataSet[DataSet[\"DayOfWeek\"] == \"weekday\" ][test_type]    \n",
    "weekend = oneTimePas.mean()\n",
    "weekDay = moreThanOnePas.mean()\n",
    "\n",
    "objects = ('weekend', 'weekday')\n",
    "y_pos = np.arange(len(objects))\n",
    "perf = [weekend,weekDay]\n",
    " \n",
    "plt.bar(y_pos, perf, align='center', alpha=0.5)\n",
    "plt.xticks(y_pos, objects)\n",
    "plt.ylabel('Distance')\n",
    "plt.title('Week and Distance Correlation')\n",
    "\n",
    "plt.show()"
   ]
  },
  {
   "cell_type": "markdown",
   "metadata": {},
   "source": [
    "Since P-value is lower than 0.05 we reject null hypothesis again. Also there is a correlation between weekday and distance."
   ]
  },
  {
   "cell_type": "code",
   "execution_count": 23,
   "metadata": {},
   "outputs": [
    {
     "data": {
      "text/plain": [
       "Ttest_indResult(statistic=5.61921641810278, pvalue=1.9260544245367343e-08)"
      ]
     },
     "execution_count": 23,
     "metadata": {},
     "output_type": "execute_result"
    }
   ],
   "source": [
    "stats.ttest_ind(weekendVariable, weekDayVariable, equal_var=False)"
   ]
  },
  {
   "cell_type": "markdown",
   "metadata": {},
   "source": [
    "This is the end of the program.\n",
    "Abdulsamet AKTAS\n",
    "23811"
   ]
  }
 ],
 "metadata": {
  "kernelspec": {
   "display_name": "Python 3",
   "language": "python",
   "name": "python3"
  },
  "language_info": {
   "codemirror_mode": {
    "name": "ipython",
    "version": 3
   },
   "file_extension": ".py",
   "mimetype": "text/x-python",
   "name": "python",
   "nbconvert_exporter": "python",
   "pygments_lexer": "ipython3",
   "version": "3.7.1"
  }
 },
 "nbformat": 4,
 "nbformat_minor": 2
}
